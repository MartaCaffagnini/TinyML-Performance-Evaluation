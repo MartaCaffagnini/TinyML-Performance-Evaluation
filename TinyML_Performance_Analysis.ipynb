{
  "nbformat": 4,
  "nbformat_minor": 0,
  "metadata": {
    "colab": {
      "provenance": [],
      "authorship_tag": "ABX9TyNYfVutj21D946QmCG4L4Ze"
    },
    "kernelspec": {
      "name": "python3",
      "display_name": "Python 3"
    },
    "language_info": {
      "name": "python"
    }
  },
  "cells": [
    {
      "cell_type": "code",
      "source": [
        "import pandas as pd\n",
        "import matplotlib.pyplot as plt\n",
        "import numpy as np\n",
        "import seaborn as sns\n",
        "import scipy.stats as sci\n"
      ],
      "metadata": {
        "id": "9BbhTIXv71wo"
      },
      "execution_count": 1,
      "outputs": []
    },
    {
      "cell_type": "markdown",
      "source": [
        "IRIS FLOWER CLASSIFICATION"
      ],
      "metadata": {
        "id": "UEXVCMaF04QZ"
      }
    },
    {
      "cell_type": "code",
      "source": [
        "#iris esp32 \n",
        "iris_esp32 = pd.Series([300,18,22,51,16,14,15,14,22,15,14,15,14,14,16,14,26,15,15,15,16,15,16,15,16,15,12,14,15,16,16,14,16,14,15,15,14,13,15,17,14,14,13,16,14,14,13,15,14,17,17,15,16,15,15,15,15,16,16,15,15,15,13,12,15,13,15,15,15,14,16,15,14,16,14,16,15,15,15,15,15,16,15,11,16,14,15,16,15,13,16,16,16,18,15,15,16,16,15,15])\n",
        "#iris wemos\n",
        "iris_wemos=pd.Series([160,15,18,33,16,14,15,14,18,15,15,16,15,13,15,14,17,15,15,15,16,15,16,23,16,15,12,14,14,15,16,15,16,14,15,15,13,13,15,16,15,15,14,16,14,14,14,16,14,16,17,16,16,14,15,15,15,15,16,16,15,15,14,12,15,14,15,15,15,14,16,15,13,16,14,16,16,15,16,15,16,15,15,12,16,14,16,17,15,14,16,15,15,17,14,16,16,15,15,15])\n",
        "#iris esp8266\n",
        "iris_8266=pd.Series([103,102,103,102,102,102,102,102,102,102,102,102,103,102,102,102,102,102,102,103,102,102,103,102,102,102,103,102,102,102,102,102,103,103,102,102,102,102,102,102,102,102,102,102,102,102,103,102,103,103,103,103,102,103,102,103,102,102,102,102,102,102,102,103,102,102,102,102,102,102,102,102,102,103,102,103,102,102,102,102,102,102,102,102,102,103,103,102,102,102,102,102,102,103,103,102,102,102,103,102])\n",
        "\n",
        "n_iter=[i for i in range(100) ]\n",
        "\n",
        "df_iris = pd.DataFrame({'iter':n_iter ,\n",
        "                   'micros_esp32':iris_esp32,\n",
        "                   'micros_wemos':iris_wemos,\n",
        "                   'micros_esp8266':iris_8266}\n",
        "                   \n",
        "                  )\n",
        "\n",
        "df_iris_describe= df_iris[['micros_esp32','micros_wemos','micros_esp8266']]\n",
        "df_iris_describe.describe()\n"
      ],
      "metadata": {
        "colab": {
          "base_uri": "https://localhost:8080/",
          "height": 300
        },
        "id": "z_JDJ8pa1jiG",
        "outputId": "e2754236-b015-49e0-a637-cec045a84936"
      },
      "execution_count": 8,
      "outputs": [
        {
          "output_type": "execute_result",
          "data": {
            "text/plain": [
              "       micros_esp32  micros_wemos  micros_esp8266\n",
              "count     100.00000    100.000000      100.000000\n",
              "mean       18.40000     16.750000      102.230000\n",
              "std        28.72967     14.643491        0.422953\n",
              "min        11.00000     12.000000      102.000000\n",
              "25%        14.00000     14.000000      102.000000\n",
              "50%        15.00000     15.000000      102.000000\n",
              "75%        16.00000     16.000000      102.000000\n",
              "max       300.00000    160.000000      103.000000"
            ],
            "text/html": [
              "\n",
              "  <div id=\"df-53a22a74-4035-43aa-a3c0-4aa93eb0697a\">\n",
              "    <div class=\"colab-df-container\">\n",
              "      <div>\n",
              "<style scoped>\n",
              "    .dataframe tbody tr th:only-of-type {\n",
              "        vertical-align: middle;\n",
              "    }\n",
              "\n",
              "    .dataframe tbody tr th {\n",
              "        vertical-align: top;\n",
              "    }\n",
              "\n",
              "    .dataframe thead th {\n",
              "        text-align: right;\n",
              "    }\n",
              "</style>\n",
              "<table border=\"1\" class=\"dataframe\">\n",
              "  <thead>\n",
              "    <tr style=\"text-align: right;\">\n",
              "      <th></th>\n",
              "      <th>micros_esp32</th>\n",
              "      <th>micros_wemos</th>\n",
              "      <th>micros_esp8266</th>\n",
              "    </tr>\n",
              "  </thead>\n",
              "  <tbody>\n",
              "    <tr>\n",
              "      <th>count</th>\n",
              "      <td>100.00000</td>\n",
              "      <td>100.000000</td>\n",
              "      <td>100.000000</td>\n",
              "    </tr>\n",
              "    <tr>\n",
              "      <th>mean</th>\n",
              "      <td>18.40000</td>\n",
              "      <td>16.750000</td>\n",
              "      <td>102.230000</td>\n",
              "    </tr>\n",
              "    <tr>\n",
              "      <th>std</th>\n",
              "      <td>28.72967</td>\n",
              "      <td>14.643491</td>\n",
              "      <td>0.422953</td>\n",
              "    </tr>\n",
              "    <tr>\n",
              "      <th>min</th>\n",
              "      <td>11.00000</td>\n",
              "      <td>12.000000</td>\n",
              "      <td>102.000000</td>\n",
              "    </tr>\n",
              "    <tr>\n",
              "      <th>25%</th>\n",
              "      <td>14.00000</td>\n",
              "      <td>14.000000</td>\n",
              "      <td>102.000000</td>\n",
              "    </tr>\n",
              "    <tr>\n",
              "      <th>50%</th>\n",
              "      <td>15.00000</td>\n",
              "      <td>15.000000</td>\n",
              "      <td>102.000000</td>\n",
              "    </tr>\n",
              "    <tr>\n",
              "      <th>75%</th>\n",
              "      <td>16.00000</td>\n",
              "      <td>16.000000</td>\n",
              "      <td>102.000000</td>\n",
              "    </tr>\n",
              "    <tr>\n",
              "      <th>max</th>\n",
              "      <td>300.00000</td>\n",
              "      <td>160.000000</td>\n",
              "      <td>103.000000</td>\n",
              "    </tr>\n",
              "  </tbody>\n",
              "</table>\n",
              "</div>\n",
              "      <button class=\"colab-df-convert\" onclick=\"convertToInteractive('df-53a22a74-4035-43aa-a3c0-4aa93eb0697a')\"\n",
              "              title=\"Convert this dataframe to an interactive table.\"\n",
              "              style=\"display:none;\">\n",
              "        \n",
              "  <svg xmlns=\"http://www.w3.org/2000/svg\" height=\"24px\"viewBox=\"0 0 24 24\"\n",
              "       width=\"24px\">\n",
              "    <path d=\"M0 0h24v24H0V0z\" fill=\"none\"/>\n",
              "    <path d=\"M18.56 5.44l.94 2.06.94-2.06 2.06-.94-2.06-.94-.94-2.06-.94 2.06-2.06.94zm-11 1L8.5 8.5l.94-2.06 2.06-.94-2.06-.94L8.5 2.5l-.94 2.06-2.06.94zm10 10l.94 2.06.94-2.06 2.06-.94-2.06-.94-.94-2.06-.94 2.06-2.06.94z\"/><path d=\"M17.41 7.96l-1.37-1.37c-.4-.4-.92-.59-1.43-.59-.52 0-1.04.2-1.43.59L10.3 9.45l-7.72 7.72c-.78.78-.78 2.05 0 2.83L4 21.41c.39.39.9.59 1.41.59.51 0 1.02-.2 1.41-.59l7.78-7.78 2.81-2.81c.8-.78.8-2.07 0-2.86zM5.41 20L4 18.59l7.72-7.72 1.47 1.35L5.41 20z\"/>\n",
              "  </svg>\n",
              "      </button>\n",
              "      \n",
              "  <style>\n",
              "    .colab-df-container {\n",
              "      display:flex;\n",
              "      flex-wrap:wrap;\n",
              "      gap: 12px;\n",
              "    }\n",
              "\n",
              "    .colab-df-convert {\n",
              "      background-color: #E8F0FE;\n",
              "      border: none;\n",
              "      border-radius: 50%;\n",
              "      cursor: pointer;\n",
              "      display: none;\n",
              "      fill: #1967D2;\n",
              "      height: 32px;\n",
              "      padding: 0 0 0 0;\n",
              "      width: 32px;\n",
              "    }\n",
              "\n",
              "    .colab-df-convert:hover {\n",
              "      background-color: #E2EBFA;\n",
              "      box-shadow: 0px 1px 2px rgba(60, 64, 67, 0.3), 0px 1px 3px 1px rgba(60, 64, 67, 0.15);\n",
              "      fill: #174EA6;\n",
              "    }\n",
              "\n",
              "    [theme=dark] .colab-df-convert {\n",
              "      background-color: #3B4455;\n",
              "      fill: #D2E3FC;\n",
              "    }\n",
              "\n",
              "    [theme=dark] .colab-df-convert:hover {\n",
              "      background-color: #434B5C;\n",
              "      box-shadow: 0px 1px 3px 1px rgba(0, 0, 0, 0.15);\n",
              "      filter: drop-shadow(0px 1px 2px rgba(0, 0, 0, 0.3));\n",
              "      fill: #FFFFFF;\n",
              "    }\n",
              "  </style>\n",
              "\n",
              "      <script>\n",
              "        const buttonEl =\n",
              "          document.querySelector('#df-53a22a74-4035-43aa-a3c0-4aa93eb0697a button.colab-df-convert');\n",
              "        buttonEl.style.display =\n",
              "          google.colab.kernel.accessAllowed ? 'block' : 'none';\n",
              "\n",
              "        async function convertToInteractive(key) {\n",
              "          const element = document.querySelector('#df-53a22a74-4035-43aa-a3c0-4aa93eb0697a');\n",
              "          const dataTable =\n",
              "            await google.colab.kernel.invokeFunction('convertToInteractive',\n",
              "                                                     [key], {});\n",
              "          if (!dataTable) return;\n",
              "\n",
              "          const docLinkHtml = 'Like what you see? Visit the ' +\n",
              "            '<a target=\"_blank\" href=https://colab.research.google.com/notebooks/data_table.ipynb>data table notebook</a>'\n",
              "            + ' to learn more about interactive tables.';\n",
              "          element.innerHTML = '';\n",
              "          dataTable['output_type'] = 'display_data';\n",
              "          await google.colab.output.renderOutput(dataTable, element);\n",
              "          const docLink = document.createElement('div');\n",
              "          docLink.innerHTML = docLinkHtml;\n",
              "          element.appendChild(docLink);\n",
              "        }\n",
              "      </script>\n",
              "    </div>\n",
              "  </div>\n",
              "  "
            ]
          },
          "metadata": {},
          "execution_count": 8
        }
      ]
    },
    {
      "cell_type": "code",
      "source": [
        "plt.plot(df_iris['iter'],df_iris['micros_esp32'],'-')\n",
        "plt.plot(df_iris['iter'],df_iris['micros_wemos'],'-')\n",
        "plt.plot(df_iris['iter'],df_iris['micros_esp8266'],'-')\n",
        "plt.xlabel(\"iteration number \")\n",
        "plt.ylabel(\"Microseconds\")\n",
        "plt.legend(['ESP32', 'WEMOS', 'ESP8266'])"
      ],
      "metadata": {
        "colab": {
          "base_uri": "https://localhost:8080/",
          "height": 296
        },
        "id": "KLfFymHHZXjR",
        "outputId": "0482b0cc-112a-41c0-e759-994ec3622da0"
      },
      "execution_count": 9,
      "outputs": [
        {
          "output_type": "execute_result",
          "data": {
            "text/plain": [
              "<matplotlib.legend.Legend at 0x7ff38d4f76a0>"
            ]
          },
          "metadata": {},
          "execution_count": 9
        },
        {
          "output_type": "display_data",
          "data": {
            "text/plain": [
              "<Figure size 432x288 with 1 Axes>"
            ],
            "image/png": "[encoded data removed]"
          },
          "metadata": {
            "needs_background": "light"
          }
        }
      ]
    },
    {
      "cell_type": "code",
      "source": [
        "df1=df_iris[1:100]\n",
        "plt.plot(df1['iter'],df1['micros_esp32'],'-')\n",
        "plt.plot(df1['iter'],df1['micros_wemos'],'-')\n",
        "plt.legend(['ESP32', 'WEMOS'])\n",
        "plt.xlabel(\"iteration number \")\n",
        "plt.ylabel(\"Microseconds\")\n"
      ],
      "metadata": {
        "colab": {
          "base_uri": "https://localhost:8080/",
          "height": 296
        },
        "id": "ohiGDCTC-hvt",
        "outputId": "71e3e245-2775-46ac-f5b5-ffaba6997785"
      },
      "execution_count": 22,
      "outputs": [
        {
          "output_type": "execute_result",
          "data": {
            "text/plain": [
              "Text(0, 0.5, 'Microseconds')"
            ]
          },
          "metadata": {},
          "execution_count": 22
        },
        {
          "output_type": "display_data",
          "data": {
            "text/plain": [
              "<Figure size 432x288 with 1 Axes>"
            ],
            "image/png": "[encoded data removed]"
          },
          "metadata": {
            "needs_background": "light"
          }
        }
      ]
    },
    {
      "cell_type": "code",
      "source": [
        "memory = {'board':  ['ESP32', 'ESP32', 'Wemos','Wemos', 'ESP8266', 'ESP8266'],\n",
        "        'type_memory': ['RAM', 'Flash', 'RAM', 'Flash', 'RAM', 'Flash'],\n",
        "        'KB': [71.7,264.3,71.7,264.3, 27.2,263.5],\n",
        "      \n",
        "        }\n",
        "\n",
        "df = pd.DataFrame(memory)\n",
        "Kb=df['KB']\n",
        "s1 = sns.barplot(x = 'board', y = 'KB',hue=\"type_memory\", data = df)\n",
        "s1.figure.set_size_inches(10,5) #specifichiamo dimensioni del grafico\n",
        "for i in range (6): #per ogni barra specifico il suo valore sull'asse y\n",
        " s1.text(i/2 -0.25,Kb.iloc[i]+0.3, int(Kb.iloc[i]),fontdict=dict(color='black', fontsize=10),horizontalalignment='left');\n"
      ],
      "metadata": {
        "colab": {
          "base_uri": "https://localhost:8080/",
          "height": 334
        },
        "id": "iEkmbTLq6NvX",
        "outputId": "af048bf3-207e-4b78-a079-c186ac1253c7"
      },
      "execution_count": 12,
      "outputs": [
        {
          "output_type": "display_data",
          "data": {
            "text/plain": [
              "<Figure size 720x360 with 1 Axes>"
            ],
            "image/png": "[encoded data removed]"
          },
          "metadata": {
            "needs_background": "light"
          }
        }
      ]
    },
    {
      "cell_type": "markdown",
      "source": [
        "SINE COSINE PREDICTION\n"
      ],
      "metadata": {
        "id": "iintwc6508eY"
      }
    },
    {
      "cell_type": "code",
      "source": [
        "#sine cosine esp32\n",
        "sine_cosine_esp32=pd.Series([368,70,70,68,71,70,70,70,71,70,75,71,70,70,71,70,70,78,70,75,70,70,70,71,71,70,71,70,70,71,70,70,70,71,70,70,78,71,70,70,70,70,70,75,70,70,70,70,71,71,78,71,70,70,70,70,70,70,71,71,71,70,71,70,70,71,71,70,70,78,70,71,70,70,71,70,77,70,70,70,70,70,70,71,70,71,71,70,71,70,70,70,71,70,70,71,70,70,71,70])\n",
        "#sine cosine wemos\n",
        "sine_cosine_wemos=pd.Series([213,53,53,53,53,54,53,53,61,53,54,53,54,53,53,53,53,53,53,55,53,62,53,53,53,53,53,53,50,54,53,53,53,53,54,53,53,53,53,53,53,53,53,53,53,54,53,53,53,53,54,53,53,53,53,53,53,53,61,53,54,53,53,54,53,53,54,53,53,53,53,61,54,53,53,53,50,54,53,53,61,53,54,53,54,53,53,53,53,61,53,53,53,54,53,53,53,53,62,53])\n",
        "#sine cosine esp8266\n",
        "sine_cosine_8266=pd.Series([826,594,596,615,606,606,595,595,605,595,596,617,606,615,605,616,595,617,596,594,605,606,606,617,605,606,606,594,615,595,606,595,616,595,606,616,616,595,599,606,615,616,605,594,615,616,615,594,605,616,605,617,595,605,596,605,616,595,593,615,594,599,616,609,595,606,596,595,596,615,596,594,595,605,615,595,594,615,615,594,616,595,595,594,605,604,609,594,619,605,595,595,596,594,617,606,616,605,605,617])\n",
        "\n",
        "n_iter=[i for i in range(100) ]\n",
        "\n",
        "df_sinecosine = pd.DataFrame({'iter':n_iter ,\n",
        "                   'micros_esp32':sine_cosine_esp32,\n",
        "                   'micros_wemos':sine_cosine_wemos,\n",
        "                   'micros_esp8266':sine_cosine_8266}\n",
        "                   \n",
        "                  )\n",
        "\n",
        "df_sinecosine_describe= df_sinecosine[['micros_esp32','micros_wemos','micros_esp8266']]\n",
        "df_sinecosine_describe.describe()\n"
      ],
      "metadata": {
        "id": "GWlC6mKhYhQ6",
        "colab": {
          "base_uri": "https://localhost:8080/",
          "height": 300
        },
        "outputId": "dccec7c2-3114-487c-d031-b77c54305932"
      },
      "execution_count": 13,
      "outputs": [
        {
          "output_type": "execute_result",
          "data": {
            "text/plain": [
              "       micros_esp32  micros_wemos  micros_esp8266\n",
              "count    100.000000    100.000000      100.000000\n",
              "mean      73.780000     55.290000      606.490000\n",
              "std       29.778163     16.078906       23.841012\n",
              "min       68.000000     50.000000      593.000000\n",
              "25%       70.000000     53.000000      595.000000\n",
              "50%       70.000000     53.000000      605.000000\n",
              "75%       71.000000     53.000000      615.000000\n",
              "max      368.000000    213.000000      826.000000"
            ],
            "text/html": [
              "\n",
              "  <div id=\"df-787cdd65-6af8-4e7a-9de2-41f13cfffe1d\">\n",
              "    <div class=\"colab-df-container\">\n",
              "      <div>\n",
              "<style scoped>\n",
              "    .dataframe tbody tr th:only-of-type {\n",
              "        vertical-align: middle;\n",
              "    }\n",
              "\n",
              "    .dataframe tbody tr th {\n",
              "        vertical-align: top;\n",
              "    }\n",
              "\n",
              "    .dataframe thead th {\n",
              "        text-align: right;\n",
              "    }\n",
              "</style>\n",
              "<table border=\"1\" class=\"dataframe\">\n",
              "  <thead>\n",
              "    <tr style=\"text-align: right;\">\n",
              "      <th></th>\n",
              "      <th>micros_esp32</th>\n",
              "      <th>micros_wemos</th>\n",
              "      <th>micros_esp8266</th>\n",
              "    </tr>\n",
              "  </thead>\n",
              "  <tbody>\n",
              "    <tr>\n",
              "      <th>count</th>\n",
              "      <td>100.000000</td>\n",
              "      <td>100.000000</td>\n",
              "      <td>100.000000</td>\n",
              "    </tr>\n",
              "    <tr>\n",
              "      <th>mean</th>\n",
              "      <td>73.780000</td>\n",
              "      <td>55.290000</td>\n",
              "      <td>606.490000</td>\n",
              "    </tr>\n",
              "    <tr>\n",
              "      <th>std</th>\n",
              "      <td>29.778163</td>\n",
              "      <td>16.078906</td>\n",
              "      <td>23.841012</td>\n",
              "    </tr>\n",
              "    <tr>\n",
              "      <th>min</th>\n",
              "      <td>68.000000</td>\n",
              "      <td>50.000000</td>\n",
              "      <td>593.000000</td>\n",
              "    </tr>\n",
              "    <tr>\n",
              "      <th>25%</th>\n",
              "      <td>70.000000</td>\n",
              "      <td>53.000000</td>\n",
              "      <td>595.000000</td>\n",
              "    </tr>\n",
              "    <tr>\n",
              "      <th>50%</th>\n",
              "      <td>70.000000</td>\n",
              "      <td>53.000000</td>\n",
              "      <td>605.000000</td>\n",
              "    </tr>\n",
              "    <tr>\n",
              "      <th>75%</th>\n",
              "      <td>71.000000</td>\n",
              "      <td>53.000000</td>\n",
              "      <td>615.000000</td>\n",
              "    </tr>\n",
              "    <tr>\n",
              "      <th>max</th>\n",
              "      <td>368.000000</td>\n",
              "      <td>213.000000</td>\n",
              "      <td>826.000000</td>\n",
              "    </tr>\n",
              "  </tbody>\n",
              "</table>\n",
              "</div>\n",
              "      <button class=\"colab-df-convert\" onclick=\"convertToInteractive('df-787cdd65-6af8-4e7a-9de2-41f13cfffe1d')\"\n",
              "              title=\"Convert this dataframe to an interactive table.\"\n",
              "              style=\"display:none;\">\n",
              "        \n",
              "  <svg xmlns=\"http://www.w3.org/2000/svg\" height=\"24px\"viewBox=\"0 0 24 24\"\n",
              "       width=\"24px\">\n",
              "    <path d=\"M0 0h24v24H0V0z\" fill=\"none\"/>\n",
              "    <path d=\"M18.56 5.44l.94 2.06.94-2.06 2.06-.94-2.06-.94-.94-2.06-.94 2.06-2.06.94zm-11 1L8.5 8.5l.94-2.06 2.06-.94-2.06-.94L8.5 2.5l-.94 2.06-2.06.94zm10 10l.94 2.06.94-2.06 2.06-.94-2.06-.94-.94-2.06-.94 2.06-2.06.94z\"/><path d=\"M17.41 7.96l-1.37-1.37c-.4-.4-.92-.59-1.43-.59-.52 0-1.04.2-1.43.59L10.3 9.45l-7.72 7.72c-.78.78-.78 2.05 0 2.83L4 21.41c.39.39.9.59 1.41.59.51 0 1.02-.2 1.41-.59l7.78-7.78 2.81-2.81c.8-.78.8-2.07 0-2.86zM5.41 20L4 18.59l7.72-7.72 1.47 1.35L5.41 20z\"/>\n",
              "  </svg>\n",
              "      </button>\n",
              "      \n",
              "  <style>\n",
              "    .colab-df-container {\n",
              "      display:flex;\n",
              "      flex-wrap:wrap;\n",
              "      gap: 12px;\n",
              "    }\n",
              "\n",
              "    .colab-df-convert {\n",
              "      background-color: #E8F0FE;\n",
              "      border: none;\n",
              "      border-radius: 50%;\n",
              "      cursor: pointer;\n",
              "      display: none;\n",
              "      fill: #1967D2;\n",
              "      height: 32px;\n",
              "      padding: 0 0 0 0;\n",
              "      width: 32px;\n",
              "    }\n",
              "\n",
              "    .colab-df-convert:hover {\n",
              "      background-color: #E2EBFA;\n",
              "      box-shadow: 0px 1px 2px rgba(60, 64, 67, 0.3), 0px 1px 3px 1px rgba(60, 64, 67, 0.15);\n",
              "      fill: #174EA6;\n",
              "    }\n",
              "\n",
              "    [theme=dark] .colab-df-convert {\n",
              "      background-color: #3B4455;\n",
              "      fill: #D2E3FC;\n",
              "    }\n",
              "\n",
              "    [theme=dark] .colab-df-convert:hover {\n",
              "      background-color: #434B5C;\n",
              "      box-shadow: 0px 1px 3px 1px rgba(0, 0, 0, 0.15);\n",
              "      filter: drop-shadow(0px 1px 2px rgba(0, 0, 0, 0.3));\n",
              "      fill: #FFFFFF;\n",
              "    }\n",
              "  </style>\n",
              "\n",
              "      <script>\n",
              "        const buttonEl =\n",
              "          document.querySelector('#df-787cdd65-6af8-4e7a-9de2-41f13cfffe1d button.colab-df-convert');\n",
              "        buttonEl.style.display =\n",
              "          google.colab.kernel.accessAllowed ? 'block' : 'none';\n",
              "\n",
              "        async function convertToInteractive(key) {\n",
              "          const element = document.querySelector('#df-787cdd65-6af8-4e7a-9de2-41f13cfffe1d');\n",
              "          const dataTable =\n",
              "            await google.colab.kernel.invokeFunction('convertToInteractive',\n",
              "                                                     [key], {});\n",
              "          if (!dataTable) return;\n",
              "\n",
              "          const docLinkHtml = 'Like what you see? Visit the ' +\n",
              "            '<a target=\"_blank\" href=https://colab.research.google.com/notebooks/data_table.ipynb>data table notebook</a>'\n",
              "            + ' to learn more about interactive tables.';\n",
              "          element.innerHTML = '';\n",
              "          dataTable['output_type'] = 'display_data';\n",
              "          await google.colab.output.renderOutput(dataTable, element);\n",
              "          const docLink = document.createElement('div');\n",
              "          docLink.innerHTML = docLinkHtml;\n",
              "          element.appendChild(docLink);\n",
              "        }\n",
              "      </script>\n",
              "    </div>\n",
              "  </div>\n",
              "  "
            ]
          },
          "metadata": {},
          "execution_count": 13
        }
      ]
    },
    {
      "cell_type": "code",
      "source": [
        "plt.plot(df_sinecosine['iter'],df_sinecosine['micros_esp32'],'-')\n",
        "plt.plot(df_sinecosine['iter'],df_sinecosine['micros_wemos'],'-')\n",
        "plt.plot(df_sinecosine['iter'],df_sinecosine['micros_esp8266'],'-')\n",
        "\n",
        "plt.legend(['ESP32', 'WEMOS', 'ESP8266'])\n",
        "plt.xlabel(\"iteration number \")\n",
        "plt.ylabel(\"Microseconds\")\n"
      ],
      "metadata": {
        "colab": {
          "base_uri": "https://localhost:8080/",
          "height": 296
        },
        "id": "Qdr5jK3DJP40",
        "outputId": "3537f227-e7f4-4903-e148-930df1a5b767"
      },
      "execution_count": 14,
      "outputs": [
        {
          "output_type": "execute_result",
          "data": {
            "text/plain": [
              "Text(0, 0.5, 'Microseconds')"
            ]
          },
          "metadata": {},
          "execution_count": 14
        },
        {
          "output_type": "display_data",
          "data": {
            "text/plain": [
              "<Figure size 432x288 with 1 Axes>"
            ],
            "image/png": "[encoded data removed]"
          },
          "metadata": {
            "needs_background": "light"
          }
        }
      ]
    },
    {
      "cell_type": "code",
      "source": [
        "df2=df_sinecosine[1:100]\n",
        "plt.plot(df2['iter'],df2['micros_esp32'],'-')\n",
        "plt.plot(df2['iter'],df2['micros_wemos'],'-')\n",
        "plt.legend(['ESP32', 'WEMOS'])\n",
        "plt.xlabel(\"iteration number \")\n",
        "plt.ylabel(\"Microseconds\")\n"
      ],
      "metadata": {
        "colab": {
          "base_uri": "https://localhost:8080/",
          "height": 296
        },
        "id": "ivT5N14yDzup",
        "outputId": "7a90f7ac-fdb1-451f-dbc2-44bd4b65127d"
      },
      "execution_count": 16,
      "outputs": [
        {
          "output_type": "execute_result",
          "data": {
            "text/plain": [
              "Text(0, 0.5, 'Microseconds')"
            ]
          },
          "metadata": {},
          "execution_count": 16
        },
        {
          "output_type": "display_data",
          "data": {
            "text/plain": [
              "<Figure size 432x288 with 1 Axes>"
            ],
            "image/png": "[encoded data removed]"
          },
          "metadata": {
            "needs_background": "light"
          }
        }
      ]
    },
    {
      "cell_type": "code",
      "source": [
        "data = {'board':  ['ESP32', 'ESP32', 'Wemos','Wemos', 'ESP8266', 'ESP8266'],\n",
        "        'type_memory': ['RAM', 'Flash', 'RAM', 'Flash', 'RAM', 'Flash'],\n",
        "        'KB': [115.7,514.3,115.7,514.3,50.3,484.4],\n",
        "        \n",
        "        }\n",
        "\n",
        "df = pd.DataFrame(data)\n",
        "Kb=df['KB']\n",
        "s1 = sns.barplot(x = 'board', y = 'KB',hue=\"type_memory\", data = df)\n",
        "s1.figure.set_size_inches(10,5) #specifichiamo dimensioni del grafico\n",
        "for i in range (6): #per ogni barra specifico il suo valore sull'asse y\n",
        " s1.text(i/2 -0.25,Kb.iloc[i]+0.3, int(Kb.iloc[i]),fontdict=dict(color='black', fontsize=10),horizontalalignment='left');\n"
      ],
      "metadata": {
        "colab": {
          "base_uri": "https://localhost:8080/",
          "height": 334
        },
        "id": "e6TeFoCMEElJ",
        "outputId": "ee9368b5-9c8e-409e-e14f-3b669e891d0b"
      },
      "execution_count": 15,
      "outputs": [
        {
          "output_type": "display_data",
          "data": {
            "text/plain": [
              "<Figure size 720x360 with 1 Axes>"
            ],
            "image/png": "[encoded data removed]"
          },
          "metadata": {
            "needs_background": "light"
          }
        }
      ]
    },
    {
      "cell_type": "markdown",
      "source": [
        "HAND-WRITTEN DIGIT RECOGNITION"
      ],
      "metadata": {
        "id": "sqFPt8fm1Fd2"
      }
    },
    {
      "cell_type": "code",
      "source": [
        "#digit esp32\n",
        "digit_esp32=pd.Series([5441,3211,3220,3208,3217,3212,3220,3214,3218,3215,3218,3208,3220,3208,3219,3208,3219,3205,3224,3205,3224,3207,3224,3208,3219,3208,3219,3207,3220,3204,3217,3212,3217,3213,3314,3218,3223,3219,3224,3212,3224,3212,3223,3212,3224,3212,3221,3212,3224,3209,3228,3209,3228,3211,3230,3209,3223,3212,3224,3211,3224,3211,3224,3208,3223,3213,3221,3217,3223,3219,3223,3211,3224,3211,3223,3209,3221,3212,3224,3211,3227,3210,3228,3212,3229,3209,3224,3211,3224,3209,3223,3212,3223,3208,3222,3216,3221,3219,3221,3216])\n",
        "#digit wemos\n",
        "digit_wemos=pd.Series([4038,2892,2897,2889,2897,2889,2896,2882,2898,2889,2896,2890,2897,2889,2896,2888,2898,2889,2898,2889,2897,2888,2890,2882,2898,2890,2897,2938,2898,2892,2900,2891,2899,2892,2898,2884,2892,2890,2899,2889,2899,2892,2898,2892,2900,2892,2899,2892,2898,2891,2893,2884,2900,2890,2899,2892,2899,2890,2899,2892,2900,2892,2899,2891,2899,2884,2892,2891,2898,2892,2899,2890,2899,2891,2900,2891,2899,2891,2900,2891,2893,2892,2898,2890,2946,2892,2900,2891,2899,2892,2899,2892,2898,2891,2892,2883,2900,2890,2899,2891])\n",
        "#digit esp8266\n",
        "digit_8266=pd.Series([20901,20400,20408,20420,20408,20674,20463,20404,20408,20428,20473,20436,20412,20424,20408,20469,20440,20408,20431,20404,20473,20436,20412,20427,20408,20469,20439,20432,20408,20404,20479,20432,20412,20427,20408,20469,20440,20428,20408,20404,20473,20435,20432,20404,20404,20478,20435,20411,20380,20381,20451,20435,20380,20380,20376,20450,20431,20384,20376,20381,20438,20412,20404,20380,20376,20445,20428,20384,20376,20380,20441,20436,20377,20380,20376,20449,20431,20384,20376,20441,20435,20384,20387,20396,20425,20416,20404,20381,20376,20442,20412,20404,20380,20376,20441,20455,20410,20396,20399,20460])\n",
        "\n",
        "#convert to millisec\n",
        "digit_esp32=digit_esp32.div(1000)\n",
        "digit_wemos=digit_wemos.div(1000)\n",
        "digit_8266=digit_8266.div(1000)\n",
        "\n",
        "n_iter=[i for i in range(100) ]\n",
        "\n",
        "df_digit = pd.DataFrame({'iter':n_iter ,\n",
        "                   'millis_esp32':digit_esp32,\n",
        "                   'millis_wemos':digit_wemos,\n",
        "                   'millis_esp8266':digit_8266}\n",
        "                   \n",
        "                  )\n",
        "df_digit_describe= df_digit[['millis_esp32','millis_wemos','millis_esp8266']]\n",
        "df_digit_describe.describe()\n"
      ],
      "metadata": {
        "colab": {
          "base_uri": "https://localhost:8080/",
          "height": 300
        },
        "outputId": "4cea6c7c-9ef7-4fd8-e36c-5efa91c08aef",
        "id": "AFxfpZVD1Ewt"
      },
      "execution_count": 17,
      "outputs": [
        {
          "output_type": "execute_result",
          "data": {
            "text/plain": [
              "       millis_esp32  millis_wemos  millis_esp8266\n",
              "count    100.000000    100.000000      100.000000\n",
              "mean       3.239930      2.906090       20.424040\n",
              "std        0.222641      0.114633        0.061652\n",
              "min        3.204000      2.882000       20.376000\n",
              "25%        3.211000      2.891000       20.396000\n",
              "50%        3.218000      2.892000       20.412000\n",
              "75%        3.223000      2.899000       20.436500\n",
              "max        5.441000      4.038000       20.901000"
            ],
            "text/html": [
              "\n",
              "  <div id=\"df-7482a2af-1665-4f65-b791-84f7134c3f5c\">\n",
              "    <div class=\"colab-df-container\">\n",
              "      <div>\n",
              "<style scoped>\n",
              "    .dataframe tbody tr th:only-of-type {\n",
              "        vertical-align: middle;\n",
              "    }\n",
              "\n",
              "    .dataframe tbody tr th {\n",
              "        vertical-align: top;\n",
              "    }\n",
              "\n",
              "    .dataframe thead th {\n",
              "        text-align: right;\n",
              "    }\n",
              "</style>\n",
              "<table border=\"1\" class=\"dataframe\">\n",
              "  <thead>\n",
              "    <tr style=\"text-align: right;\">\n",
              "      <th></th>\n",
              "      <th>millis_esp32</th>\n",
              "      <th>millis_wemos</th>\n",
              "      <th>millis_esp8266</th>\n",
              "    </tr>\n",
              "  </thead>\n",
              "  <tbody>\n",
              "    <tr>\n",
              "      <th>count</th>\n",
              "      <td>100.000000</td>\n",
              "      <td>100.000000</td>\n",
              "      <td>100.000000</td>\n",
              "    </tr>\n",
              "    <tr>\n",
              "      <th>mean</th>\n",
              "      <td>3.239930</td>\n",
              "      <td>2.906090</td>\n",
              "      <td>20.424040</td>\n",
              "    </tr>\n",
              "    <tr>\n",
              "      <th>std</th>\n",
              "      <td>0.222641</td>\n",
              "      <td>0.114633</td>\n",
              "      <td>0.061652</td>\n",
              "    </tr>\n",
              "    <tr>\n",
              "      <th>min</th>\n",
              "      <td>3.204000</td>\n",
              "      <td>2.882000</td>\n",
              "      <td>20.376000</td>\n",
              "    </tr>\n",
              "    <tr>\n",
              "      <th>25%</th>\n",
              "      <td>3.211000</td>\n",
              "      <td>2.891000</td>\n",
              "      <td>20.396000</td>\n",
              "    </tr>\n",
              "    <tr>\n",
              "      <th>50%</th>\n",
              "      <td>3.218000</td>\n",
              "      <td>2.892000</td>\n",
              "      <td>20.412000</td>\n",
              "    </tr>\n",
              "    <tr>\n",
              "      <th>75%</th>\n",
              "      <td>3.223000</td>\n",
              "      <td>2.899000</td>\n",
              "      <td>20.436500</td>\n",
              "    </tr>\n",
              "    <tr>\n",
              "      <th>max</th>\n",
              "      <td>5.441000</td>\n",
              "      <td>4.038000</td>\n",
              "      <td>20.901000</td>\n",
              "    </tr>\n",
              "  </tbody>\n",
              "</table>\n",
              "</div>\n",
              "      <button class=\"colab-df-convert\" onclick=\"convertToInteractive('df-7482a2af-1665-4f65-b791-84f7134c3f5c')\"\n",
              "              title=\"Convert this dataframe to an interactive table.\"\n",
              "              style=\"display:none;\">\n",
              "        \n",
              "  <svg xmlns=\"http://www.w3.org/2000/svg\" height=\"24px\"viewBox=\"0 0 24 24\"\n",
              "       width=\"24px\">\n",
              "    <path d=\"M0 0h24v24H0V0z\" fill=\"none\"/>\n",
              "    <path d=\"M18.56 5.44l.94 2.06.94-2.06 2.06-.94-2.06-.94-.94-2.06-.94 2.06-2.06.94zm-11 1L8.5 8.5l.94-2.06 2.06-.94-2.06-.94L8.5 2.5l-.94 2.06-2.06.94zm10 10l.94 2.06.94-2.06 2.06-.94-2.06-.94-.94-2.06-.94 2.06-2.06.94z\"/><path d=\"M17.41 7.96l-1.37-1.37c-.4-.4-.92-.59-1.43-.59-.52 0-1.04.2-1.43.59L10.3 9.45l-7.72 7.72c-.78.78-.78 2.05 0 2.83L4 21.41c.39.39.9.59 1.41.59.51 0 1.02-.2 1.41-.59l7.78-7.78 2.81-2.81c.8-.78.8-2.07 0-2.86zM5.41 20L4 18.59l7.72-7.72 1.47 1.35L5.41 20z\"/>\n",
              "  </svg>\n",
              "      </button>\n",
              "      \n",
              "  <style>\n",
              "    .colab-df-container {\n",
              "      display:flex;\n",
              "      flex-wrap:wrap;\n",
              "      gap: 12px;\n",
              "    }\n",
              "\n",
              "    .colab-df-convert {\n",
              "      background-color: #E8F0FE;\n",
              "      border: none;\n",
              "      border-radius: 50%;\n",
              "      cursor: pointer;\n",
              "      display: none;\n",
              "      fill: #1967D2;\n",
              "      height: 32px;\n",
              "      padding: 0 0 0 0;\n",
              "      width: 32px;\n",
              "    }\n",
              "\n",
              "    .colab-df-convert:hover {\n",
              "      background-color: #E2EBFA;\n",
              "      box-shadow: 0px 1px 2px rgba(60, 64, 67, 0.3), 0px 1px 3px 1px rgba(60, 64, 67, 0.15);\n",
              "      fill: #174EA6;\n",
              "    }\n",
              "\n",
              "    [theme=dark] .colab-df-convert {\n",
              "      background-color: #3B4455;\n",
              "      fill: #D2E3FC;\n",
              "    }\n",
              "\n",
              "    [theme=dark] .colab-df-convert:hover {\n",
              "      background-color: #434B5C;\n",
              "      box-shadow: 0px 1px 3px 1px rgba(0, 0, 0, 0.15);\n",
              "      filter: drop-shadow(0px 1px 2px rgba(0, 0, 0, 0.3));\n",
              "      fill: #FFFFFF;\n",
              "    }\n",
              "  </style>\n",
              "\n",
              "      <script>\n",
              "        const buttonEl =\n",
              "          document.querySelector('#df-7482a2af-1665-4f65-b791-84f7134c3f5c button.colab-df-convert');\n",
              "        buttonEl.style.display =\n",
              "          google.colab.kernel.accessAllowed ? 'block' : 'none';\n",
              "\n",
              "        async function convertToInteractive(key) {\n",
              "          const element = document.querySelector('#df-7482a2af-1665-4f65-b791-84f7134c3f5c');\n",
              "          const dataTable =\n",
              "            await google.colab.kernel.invokeFunction('convertToInteractive',\n",
              "                                                     [key], {});\n",
              "          if (!dataTable) return;\n",
              "\n",
              "          const docLinkHtml = 'Like what you see? Visit the ' +\n",
              "            '<a target=\"_blank\" href=https://colab.research.google.com/notebooks/data_table.ipynb>data table notebook</a>'\n",
              "            + ' to learn more about interactive tables.';\n",
              "          element.innerHTML = '';\n",
              "          dataTable['output_type'] = 'display_data';\n",
              "          await google.colab.output.renderOutput(dataTable, element);\n",
              "          const docLink = document.createElement('div');\n",
              "          docLink.innerHTML = docLinkHtml;\n",
              "          element.appendChild(docLink);\n",
              "        }\n",
              "      </script>\n",
              "    </div>\n",
              "  </div>\n",
              "  "
            ]
          },
          "metadata": {},
          "execution_count": 17
        }
      ]
    },
    {
      "cell_type": "code",
      "source": [
        "plt.plot(df_digit['iter'],df_digit['millis_esp32'],'-')\n",
        "plt.plot(df_digit['iter'],df_digit['millis_wemos'],'-')\n",
        "plt.plot(df_digit['iter'],df_digit['millis_esp8266'],'-')\n",
        "\n",
        "plt.legend(['ESP32', 'WEMOS', 'ESP8266'])\n",
        "plt.xlabel(\"iteration number \")\n",
        "plt.ylabel(\"Milliseconds\")\n"
      ],
      "metadata": {
        "colab": {
          "base_uri": "https://localhost:8080/",
          "height": 296
        },
        "id": "_gQp38NU-Dth",
        "outputId": "7de766cc-0b46-456b-a07c-c98d72f4388f"
      },
      "execution_count": 10,
      "outputs": [
        {
          "output_type": "execute_result",
          "data": {
            "text/plain": [
              "Text(0, 0.5, 'Milliseconds')"
            ]
          },
          "metadata": {},
          "execution_count": 10
        },
        {
          "output_type": "display_data",
          "data": {
            "text/plain": [
              "<Figure size 432x288 with 1 Axes>"
            ],
            "image/png": "[encoded data removed]"
          },
          "metadata": {
            "needs_background": "light"
          }
        }
      ]
    },
    {
      "cell_type": "code",
      "source": [
        "df2=df_digit[1:100]\n",
        "plt.plot(df2['iter'],df2['millis_esp32'],'-')\n",
        "plt.plot(df2['iter'],df2['millis_wemos'],'-')\n",
        "plt.legend(['ESP32', 'WEMOS'])\n",
        "plt.xlabel(\"iteration number \")\n",
        "plt.ylabel(\"Milliseconds\")\n"
      ],
      "metadata": {
        "colab": {
          "base_uri": "https://localhost:8080/",
          "height": 296
        },
        "id": "H1ywFBxF-bay",
        "outputId": "2c11f9ca-72d8-4f1f-b55b-68963f2720e1"
      },
      "execution_count": 11,
      "outputs": [
        {
          "output_type": "execute_result",
          "data": {
            "text/plain": [
              "Text(0, 0.5, 'Milliseconds')"
            ]
          },
          "metadata": {},
          "execution_count": 11
        },
        {
          "output_type": "display_data",
          "data": {
            "text/plain": [
              "<Figure size 432x288 with 1 Axes>"
            ],
            "image/png": "[encoded data removed]"
          },
          "metadata": {
            "needs_background": "light"
          }
        }
      ]
    },
    {
      "cell_type": "code",
      "source": [
        "data = {'board':  ['ESP32', 'ESP32', 'Wemos','Wemos', 'ESP8266', 'ESP8266'],\n",
        "        'type_memory': ['RAM', 'Flash', 'RAM', 'Flash', 'RAM', 'Flash'],\n",
        "        'KB': [138,531.6,138,531.6,72.3,496.7],\n",
        "        \n",
        "        }\n",
        "\n",
        "df = pd.DataFrame(data)\n",
        "Kb=df['KB']\n",
        "s1 = sns.barplot(x = 'board', y = 'KB',hue=\"type_memory\", data = df)\n",
        "s1.figure.set_size_inches(10,5) #specifichiamo dimensioni del grafico\n",
        "for i in range (6): #per ogni barra specifico il suo valore sull'asse y\n",
        " s1.text(i/2 -0.25,Kb.iloc[i]+0.3, int(Kb.iloc[i]),fontdict=dict(color='black', fontsize=10),horizontalalignment='left');\n"
      ],
      "metadata": {
        "colab": {
          "base_uri": "https://localhost:8080/",
          "height": 334
        },
        "id": "K918GQNx-kKF",
        "outputId": "87060f5f-b16d-4fb4-9fde-57c0a601a2cf"
      },
      "execution_count": 9,
      "outputs": [
        {
          "output_type": "display_data",
          "data": {
            "text/plain": [
              "<Figure size 720x360 with 1 Axes>"
            ],
            "image/png": "[encoded data removed]"
          },
          "metadata": {
            "needs_background": "light"
          }
        }
      ]
    },
    {
      "cell_type": "markdown",
      "source": [
        "MNIST"
      ],
      "metadata": {
        "id": "AM5_P4h3DtWk"
      }
    },
    {
      "cell_type": "code",
      "source": [
        "#mnist esp32\n",
        "mnist_esp32_milli=pd.Series([170,170,170,170,170,170,170,170,170,170,170,170,170,170,170,170,170,170,170,170,170,170,170,170,170,170,170,170,170,170,170,170,170,170,170,170,170,170,170,170,170,170,170,170,170,170,170,170,170,170,170,170,170,170,170,170,170,170,170,170,170,170,170,170,170,170,170,170,170,170,170,170,170,170,170,170,170,170,170,170,170,170,170,170,170,170,170,170,170,170,170,170,170,170,170,170,170,170,170,170])\n",
        "#mnist wemos\n",
        "mnist_wemos_milli=pd.Series([158,158,158,159,158,158,158,158,158,159,159,158,159,159,159,159,159,159,159,159,159,159,159,159,159,159,158,159,159,159,158,158,159,159,159,159,159,159,159,159,159,159,159,159,159,158,158,159,159,159,159,159,159,158,159,159,158,159,159,159,159,159,159,159,159,159,159,159,159,159,159,159,159,159,159,159,159,158,159,159,158,158,159,159,158,159,158,158,159,159,159,159,159,159,159,159,158,159,158,159])\n",
        "\n",
        "n_iter=[i for i in range(100) ]\n",
        "5\n",
        "df_mnist_milli = pd.DataFrame({'iter':n_iter ,\n",
        "                   'milli_esp32':mnist_esp32_milli,\n",
        "                   'milli_wemos':mnist_wemos_milli}\n",
        "                   \n",
        "                  )\n",
        "df_mnist_describe= df_mnist_milli[['milli_esp32','milli_wemos']]\n",
        "df_mnist_describe.describe()\n"
      ],
      "metadata": {
        "colab": {
          "base_uri": "https://localhost:8080/",
          "height": 300
        },
        "id": "LU6Lf0HNJfX4",
        "outputId": "582eb9a1-b8fd-40ff-bf27-ab1a64db8e5d"
      },
      "execution_count": 4,
      "outputs": [
        {
          "output_type": "execute_result",
          "data": {
            "text/plain": [
              "       milli_esp32  milli_wemos\n",
              "count        100.0   100.000000\n",
              "mean         170.0   158.760000\n",
              "std            0.0     0.429235\n",
              "min          170.0   158.000000\n",
              "25%          170.0   159.000000\n",
              "50%          170.0   159.000000\n",
              "75%          170.0   159.000000\n",
              "max          170.0   159.000000"
            ],
            "text/html": [
              "\n",
              "  <div id=\"df-e70efc9f-9dad-4a18-a888-b019eceb18b4\">\n",
              "    <div class=\"colab-df-container\">\n",
              "      <div>\n",
              "<style scoped>\n",
              "    .dataframe tbody tr th:only-of-type {\n",
              "        vertical-align: middle;\n",
              "    }\n",
              "\n",
              "    .dataframe tbody tr th {\n",
              "        vertical-align: top;\n",
              "    }\n",
              "\n",
              "    .dataframe thead th {\n",
              "        text-align: right;\n",
              "    }\n",
              "</style>\n",
              "<table border=\"1\" class=\"dataframe\">\n",
              "  <thead>\n",
              "    <tr style=\"text-align: right;\">\n",
              "      <th></th>\n",
              "      <th>milli_esp32</th>\n",
              "      <th>milli_wemos</th>\n",
              "    </tr>\n",
              "  </thead>\n",
              "  <tbody>\n",
              "    <tr>\n",
              "      <th>count</th>\n",
              "      <td>100.0</td>\n",
              "      <td>100.000000</td>\n",
              "    </tr>\n",
              "    <tr>\n",
              "      <th>mean</th>\n",
              "      <td>170.0</td>\n",
              "      <td>158.760000</td>\n",
              "    </tr>\n",
              "    <tr>\n",
              "      <th>std</th>\n",
              "      <td>0.0</td>\n",
              "      <td>0.429235</td>\n",
              "    </tr>\n",
              "    <tr>\n",
              "      <th>min</th>\n",
              "      <td>170.0</td>\n",
              "      <td>158.000000</td>\n",
              "    </tr>\n",
              "    <tr>\n",
              "      <th>25%</th>\n",
              "      <td>170.0</td>\n",
              "      <td>159.000000</td>\n",
              "    </tr>\n",
              "    <tr>\n",
              "      <th>50%</th>\n",
              "      <td>170.0</td>\n",
              "      <td>159.000000</td>\n",
              "    </tr>\n",
              "    <tr>\n",
              "      <th>75%</th>\n",
              "      <td>170.0</td>\n",
              "      <td>159.000000</td>\n",
              "    </tr>\n",
              "    <tr>\n",
              "      <th>max</th>\n",
              "      <td>170.0</td>\n",
              "      <td>159.000000</td>\n",
              "    </tr>\n",
              "  </tbody>\n",
              "</table>\n",
              "</div>\n",
              "      <button class=\"colab-df-convert\" onclick=\"convertToInteractive('df-e70efc9f-9dad-4a18-a888-b019eceb18b4')\"\n",
              "              title=\"Convert this dataframe to an interactive table.\"\n",
              "              style=\"display:none;\">\n",
              "        \n",
              "  <svg xmlns=\"http://www.w3.org/2000/svg\" height=\"24px\"viewBox=\"0 0 24 24\"\n",
              "       width=\"24px\">\n",
              "    <path d=\"M0 0h24v24H0V0z\" fill=\"none\"/>\n",
              "    <path d=\"M18.56 5.44l.94 2.06.94-2.06 2.06-.94-2.06-.94-.94-2.06-.94 2.06-2.06.94zm-11 1L8.5 8.5l.94-2.06 2.06-.94-2.06-.94L8.5 2.5l-.94 2.06-2.06.94zm10 10l.94 2.06.94-2.06 2.06-.94-2.06-.94-.94-2.06-.94 2.06-2.06.94z\"/><path d=\"M17.41 7.96l-1.37-1.37c-.4-.4-.92-.59-1.43-.59-.52 0-1.04.2-1.43.59L10.3 9.45l-7.72 7.72c-.78.78-.78 2.05 0 2.83L4 21.41c.39.39.9.59 1.41.59.51 0 1.02-.2 1.41-.59l7.78-7.78 2.81-2.81c.8-.78.8-2.07 0-2.86zM5.41 20L4 18.59l7.72-7.72 1.47 1.35L5.41 20z\"/>\n",
              "  </svg>\n",
              "      </button>\n",
              "      \n",
              "  <style>\n",
              "    .colab-df-container {\n",
              "      display:flex;\n",
              "      flex-wrap:wrap;\n",
              "      gap: 12px;\n",
              "    }\n",
              "\n",
              "    .colab-df-convert {\n",
              "      background-color: #E8F0FE;\n",
              "      border: none;\n",
              "      border-radius: 50%;\n",
              "      cursor: pointer;\n",
              "      display: none;\n",
              "      fill: #1967D2;\n",
              "      height: 32px;\n",
              "      padding: 0 0 0 0;\n",
              "      width: 32px;\n",
              "    }\n",
              "\n",
              "    .colab-df-convert:hover {\n",
              "      background-color: #E2EBFA;\n",
              "      box-shadow: 0px 1px 2px rgba(60, 64, 67, 0.3), 0px 1px 3px 1px rgba(60, 64, 67, 0.15);\n",
              "      fill: #174EA6;\n",
              "    }\n",
              "\n",
              "    [theme=dark] .colab-df-convert {\n",
              "      background-color: #3B4455;\n",
              "      fill: #D2E3FC;\n",
              "    }\n",
              "\n",
              "    [theme=dark] .colab-df-convert:hover {\n",
              "      background-color: #434B5C;\n",
              "      box-shadow: 0px 1px 3px 1px rgba(0, 0, 0, 0.15);\n",
              "      filter: drop-shadow(0px 1px 2px rgba(0, 0, 0, 0.3));\n",
              "      fill: #FFFFFF;\n",
              "    }\n",
              "  </style>\n",
              "\n",
              "      <script>\n",
              "        const buttonEl =\n",
              "          document.querySelector('#df-e70efc9f-9dad-4a18-a888-b019eceb18b4 button.colab-df-convert');\n",
              "        buttonEl.style.display =\n",
              "          google.colab.kernel.accessAllowed ? 'block' : 'none';\n",
              "\n",
              "        async function convertToInteractive(key) {\n",
              "          const element = document.querySelector('#df-e70efc9f-9dad-4a18-a888-b019eceb18b4');\n",
              "          const dataTable =\n",
              "            await google.colab.kernel.invokeFunction('convertToInteractive',\n",
              "                                                     [key], {});\n",
              "          if (!dataTable) return;\n",
              "\n",
              "          const docLinkHtml = 'Like what you see? Visit the ' +\n",
              "            '<a target=\"_blank\" href=https://colab.research.google.com/notebooks/data_table.ipynb>data table notebook</a>'\n",
              "            + ' to learn more about interactive tables.';\n",
              "          element.innerHTML = '';\n",
              "          dataTable['output_type'] = 'display_data';\n",
              "          await google.colab.output.renderOutput(dataTable, element);\n",
              "          const docLink = document.createElement('div');\n",
              "          docLink.innerHTML = docLinkHtml;\n",
              "          element.appendChild(docLink);\n",
              "        }\n",
              "      </script>\n",
              "    </div>\n",
              "  </div>\n",
              "  "
            ]
          },
          "metadata": {},
          "execution_count": 4
        }
      ]
    },
    {
      "cell_type": "code",
      "source": [
        "plt.plot(df_mnist_milli['iter'],df_mnist_milli['milli_esp32'],'-')\n",
        "plt.plot(df_mnist_milli['iter'],df_mnist_milli['milli_wemos'],'-')\n",
        "plt.legend(['ESP32', 'WEMOS'])\n",
        "plt.xlabel(\"iteration number \")\n",
        "plt.ylabel(\"Milliseconds\")\n"
      ],
      "metadata": {
        "colab": {
          "base_uri": "https://localhost:8080/",
          "height": 296
        },
        "outputId": "21784547-6b82-4994-9014-562dcaef8f3d",
        "id": "i8fPpcjvDurq"
      },
      "execution_count": 7,
      "outputs": [
        {
          "output_type": "execute_result",
          "data": {
            "text/plain": [
              "Text(0, 0.5, 'Milliseconds')"
            ]
          },
          "metadata": {},
          "execution_count": 7
        },
        {
          "output_type": "display_data",
          "data": {
            "text/plain": [
              "<Figure size 432x288 with 1 Axes>"
            ],
            "image/png": "[encoded data removed]"
          },
          "metadata": {
            "needs_background": "light"
          }
        }
      ]
    },
    {
      "cell_type": "code",
      "source": [
        "data = {'board':  ['ESP32', 'ESP32', 'Wemos','Wemos'],\n",
        "        'type_memory': ['RAM', 'Flash', 'RAM', 'Flash'],\n",
        "        'KB': [377,685.7,376.9,685.5],\n",
        "        \n",
        "        }\n",
        "\n",
        "df = pd.DataFrame(data)\n",
        "Kb=df['KB']\n",
        "s1 = sns.barplot(x = 'board', y = 'KB',hue=\"type_memory\", data = df)\n",
        "s1.figure.set_size_inches(10,5) #specifichiamo dimensioni del grafico\n",
        "for i in range (4): #per ogni barra specifico il suo valore sull'asse y\n",
        " s1.text(i/2 -0.25,Kb.iloc[i]+0.3, int(Kb.iloc[i]),fontdict=dict(color='black', fontsize=10),horizontalalignment='left');\n"
      ],
      "metadata": {
        "colab": {
          "base_uri": "https://localhost:8080/",
          "height": 334
        },
        "outputId": "d1b4372c-7242-47c9-ea00-e7d20316ed32",
        "id": "GAG2LlSBDurq"
      },
      "execution_count": 39,
      "outputs": [
        {
          "output_type": "display_data",
          "data": {
            "text/plain": [
              "<Figure size 720x360 with 1 Axes>"
            ],
            "image/png": "[encoded data removed]"
          },
          "metadata": {
            "needs_background": "light"
          }
        }
      ]
    }
  ]
}